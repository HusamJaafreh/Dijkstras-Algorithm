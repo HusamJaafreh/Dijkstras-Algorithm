{
 "cells": [
  {
   "cell_type": "code",
   "execution_count": 1,
   "id": "554d4747",
   "metadata": {},
   "outputs": [],
   "source": [
    "'''\n",
    "this function contains the dijkstras algorithem it takes in a directed or undiredtedgraph as\n",
    "an adjencency matrix and the index of the source node.\n",
    "\n",
    "It can deal with unconnected graphs but dijkstras algorithem doesnt work on negative weighted graphs\n",
    "'''\n",
    "def dijkstras(graph, source):\n",
    "    inf =float('inf')\n",
    "    \n",
    "    \n",
    "    # Error handling\n",
    "    \n",
    "    # checking that the graph is a list\n",
    "    if type(graph) != list:\n",
    "        raise Exception(\"The entered graph is not a list\")\n",
    "        \n",
    "        \n",
    "      \n",
    "    for i in graph:\n",
    "         # checking that the graph contains lists inside it \n",
    "        if type(i) != list:\n",
    "            raise Exception(\"The entered graph contains other data types other than list\")\n",
    "            \n",
    "        # checking that the columns and rows are all equal\n",
    "        if len(i) != len(graph):\n",
    "            raise Exception(\"The entered graph rows and columns are of different lengths\")\n",
    "            \n",
    "        # checks if variables inside the graph are of the right type\n",
    "        for j in i:\n",
    "            if (type(j) == int or type(j) == float) == 0:\n",
    "                    raise Exception(\"The entered values inside the graph are not the right type\")\n",
    "            if j<0:\n",
    "                raise Exception(\"The entered values inside the graph can not be negative\")\n",
    "\n",
    "    # check that source type is an int\n",
    "    if type(source) != int:\n",
    "        raise Exception(\"the source vertex has to be an int\")\n",
    "        \n",
    "    # check that source inside graph\n",
    "    if source<0 or source>len(graph)-1:\n",
    "        raise Exception(\"the source is outside graph range\")\n",
    "            \n",
    "            \n",
    "    # num of vertices\n",
    "    n_virt = len(graph)\n",
    "    \n",
    "    # creating information table and setting it up\n",
    "    information_table=[[None for i in range(3)] for j in range(n_virt)]\n",
    "    for i in range(n_virt):\n",
    "        information_table[i][0] = i\n",
    "        information_table[i][1] = inf\n",
    "    information_table[source][1] = 0\n",
    "\n",
    "\n",
    "    # creating unvisited nodes list\n",
    "    unVisited = [None]*n_virt\n",
    "    for i in range(n_virt):\n",
    "        unVisited[i]=i\n",
    "        \n",
    "        \n",
    "    for i in range(n_virt):\n",
    "        # determining next node to visit\n",
    "        dist = inf\n",
    "        next_to_visit = source\n",
    "        for i in information_table:\n",
    "            if i[0] in unVisited:\n",
    "                if i[1]<dist:\n",
    "                    dist = i[1]\n",
    "                    next_to_visit = i[0]\n",
    "                    \n",
    "        # This solves for disconnected graphs as the code above gets skiped\n",
    "        if dist == inf:\n",
    "            for i in information_table:\n",
    "                if i[0] in unVisited:\n",
    "                    next_to_visit = i[0]\n",
    "         \n",
    "        # solves for the distances for the neighbors of the node being visited\n",
    "        for current_index, distance in enumerate(graph[next_to_visit]):\n",
    "            pre_path = information_table[current_index][1]\n",
    "            pre_virt_dist = information_table[next_to_visit][1]\n",
    "            if distance + pre_virt_dist < pre_path:\n",
    "                information_table[current_index][1] = distance + pre_virt_dist\n",
    "                information_table[current_index][2] = next_to_visit \n",
    "                \n",
    "        # removing node from unvisited list\n",
    "        unVisited.remove(next_to_visit)\n",
    "    \n",
    "    # returning the information table after the changes\n",
    "    return information_table\n",
    "            \n",
    "       "
   ]
  },
  {
   "cell_type": "code",
   "execution_count": 2,
   "id": "9760dac0",
   "metadata": {},
   "outputs": [],
   "source": [
    "# extra\n",
    "# This function rearanges the result from the dijkstras function \n",
    "# and presents it in an easier more understandable way for one of the paths found. \n",
    "# It takes in the dijkstras function result, the end vertex and the mapping of verticies to their index\n",
    "def show_path(information_table, end, mapping):\n",
    "    inf =float('inf')\n",
    "    dist = information_table[end][1]\n",
    "    if dist == inf:\n",
    "        print('no path exists')\n",
    "        return\n",
    "    path = []\n",
    "    path.append(end)\n",
    "    pre = information_table[end][2]\n",
    "    while pre is not None:\n",
    "        path.append(pre)\n",
    "        pre = information_table[pre][2]\n",
    "    \n",
    "    temp = [None]*len(path)\n",
    "    for i,j in enumerate(path):\n",
    "        temp[-1-i] = j\n",
    "    path = temp\n",
    "    \n",
    "    for i,j in enumerate(path):\n",
    "        path[i] = mapping[j]\n",
    "    print('path: ',path)\n",
    "    print('distance: ',dist)"
   ]
  },
  {
   "cell_type": "code",
   "execution_count": 3,
   "id": "fb1743d9",
   "metadata": {},
   "outputs": [],
   "source": [
    "mapping = {0:'madaba', 1:'zarqa', 2:'tafilah', 3:'amman',\n",
    "        4:'irbed', 5:'aqaba'}\n",
    "inf = float('inf')"
   ]
  },
  {
   "cell_type": "code",
   "execution_count": 10,
   "id": "a708abcc",
   "metadata": {},
   "outputs": [],
   "source": [
    "graph = [[inf,inf,inf,31,inf,inf],\n",
    "         [inf,inf,inf,46 ,89 ,inf],\n",
    "         [inf,inf,inf,184,inf,206],\n",
    "         [31,46 ,184,inf,88 ,333],\n",
    "         [inf,89 ,inf,88 ,inf,inf],\n",
    "         [inf,inf,206,333,inf,inf]]"
   ]
  },
  {
   "cell_type": "code",
   "execution_count": 11,
   "id": "b1fe710a",
   "metadata": {},
   "outputs": [
    {
     "data": {
      "text/plain": [
       "[[0, 77, 3], [1, 0, None], [2, 230, 3], [3, 46, 1], [4, 89, 1], [5, 379, 3]]"
      ]
     },
     "execution_count": 11,
     "metadata": {},
     "output_type": "execute_result"
    }
   ],
   "source": [
    "dijkstras(graph,1)"
   ]
  },
  {
   "cell_type": "code",
   "execution_count": 12,
   "id": "be4c7fbc",
   "metadata": {
    "scrolled": true
   },
   "outputs": [
    {
     "name": "stdout",
     "output_type": "stream",
     "text": [
      "path:  ['zarqa', 'amman', 'tafilah']\n",
      "distance:  230\n"
     ]
    }
   ],
   "source": [
    "show_path(dijkstras(graph, 1),2,mapping)"
   ]
  },
  {
   "cell_type": "code",
   "execution_count": null,
   "id": "f6453f39",
   "metadata": {},
   "outputs": [],
   "source": []
  }
 ],
 "metadata": {
  "kernelspec": {
   "display_name": "Python 3 (ipykernel)",
   "language": "python",
   "name": "python3"
  },
  "language_info": {
   "codemirror_mode": {
    "name": "ipython",
    "version": 3
   },
   "file_extension": ".py",
   "mimetype": "text/x-python",
   "name": "python",
   "nbconvert_exporter": "python",
   "pygments_lexer": "ipython3",
   "version": "3.9.7"
  }
 },
 "nbformat": 4,
 "nbformat_minor": 5
}
